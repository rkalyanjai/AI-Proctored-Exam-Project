{
 "cells": [
  {
   "cell_type": "code",
   "execution_count": 1,
   "metadata": {},
   "outputs": [],
   "source": [
    "import cv2\n",
    "# Load the cascade\n",
    "face_cascade = cv2.CascadeClassifier('haarcascade_frontalface_default.xml')\n",
    "\n",
    "# To capture video from webcam. \n",
    "cap = cv2.VideoCapture(0)\n",
    "# To use a video file as input \n",
    "#cap = cv2.VideoCapture('video.mp4')"
   ]
  },
  {
   "cell_type": "code",
   "execution_count": 2,
   "metadata": {},
   "outputs": [
    {
     "name": "stdout",
     "output_type": "stream",
     "text": [
      "All Good\n",
      "All Good\n",
      "All Good\n",
      "All Good\n",
      "All Good\n",
      "All Good\n",
      "All Good\n",
      "All Good\n",
      "All Good\n",
      "All Good\n",
      "All Good\n",
      "More than 1 face found:- Malpractice\n",
      "All Good\n",
      "All Good\n",
      "All Good\n",
      "All Good\n",
      "All Good\n",
      "All Good\n",
      "All Good\n",
      "All Good\n",
      "All Good\n",
      "All Good\n",
      "All Good\n",
      "All Good\n",
      "All Good\n",
      "More than 1 face found:- Malpractice\n",
      "No face found:- Malpractice\n",
      "No face found:- Malpractice\n",
      "No face found:- Malpractice\n",
      "No face found:- Malpractice\n",
      "No face found:- Malpractice\n",
      "No face found:- Malpractice\n",
      "No face found:- Malpractice\n",
      "No face found:- Malpractice\n",
      "No face found:- Malpractice\n",
      "No face found:- Malpractice\n",
      "No face found:- Malpractice\n",
      "All Good\n",
      "No face found:- Malpractice\n",
      "No face found:- Malpractice\n",
      "No face found:- Malpractice\n",
      "No face found:- Malpractice\n",
      "All Good\n",
      "All Good\n",
      "All Good\n",
      "All Good\n",
      "No face found:- Malpractice\n",
      "All Good\n",
      "All Good\n",
      "All Good\n",
      "All Good\n",
      "All Good\n"
     ]
    }
   ],
   "source": [
    "while True:\n",
    "    # Read the frame\n",
    "    _, img = cap.read()\n",
    "\n",
    "    # Convert to grayscale\n",
    "    gray = cv2.cvtColor(img, cv2.COLOR_BGR2GRAY)\n",
    "    # Detect the faces\n",
    "    faces = face_cascade.detectMultiScale(gray, 1.1, 4)\n",
    "    \n",
    "   \n",
    "    # Draw the rectangle around each face\n",
    "    for (x, y, w, h) in faces:\n",
    "        cv2.rectangle(img, (x, y), (x+w, y+h), (255, 0, 0), 2)\n",
    "   # Display\n",
    "    cv2.imshow('img', img)\n",
    "    # Stop if escape key is pressed\n",
    "    k = cv2.waitKey(30) & 0xff\n",
    "    if k==27:\n",
    "        break\n",
    "    a=len(faces)\n",
    "    b=int(a)\n",
    "    if(b>1):\n",
    "         print(\"More than 1 face found:- Malpractice\")\n",
    "         continue\n",
    "    elif(b==0):\n",
    "         print(\"No face found:- Malpractice\")\n",
    "         continue\n",
    "    else:\n",
    "         print(\"All Good\")\n",
    "         continue\n",
    "   \n",
    "        \n",
    "# Release the VideoCapture object\n",
    "cap.release()\n",
    "\n"
   ]
  },
  {
   "cell_type": "code",
   "execution_count": null,
   "metadata": {},
   "outputs": [],
   "source": []
  },
  {
   "cell_type": "code",
   "execution_count": null,
   "metadata": {},
   "outputs": [],
   "source": []
  },
  {
   "cell_type": "code",
   "execution_count": null,
   "metadata": {},
   "outputs": [],
   "source": []
  },
  {
   "cell_type": "code",
   "execution_count": null,
   "metadata": {},
   "outputs": [],
   "source": []
  }
 ],
 "metadata": {
  "kernelspec": {
   "display_name": "Python 3",
   "language": "python",
   "name": "python3"
  },
  "language_info": {
   "codemirror_mode": {
    "name": "ipython",
    "version": 3
   },
   "file_extension": ".py",
   "mimetype": "text/x-python",
   "name": "python",
   "nbconvert_exporter": "python",
   "pygments_lexer": "ipython3",
   "version": "3.8.5"
  }
 },
 "nbformat": 4,
 "nbformat_minor": 4
}